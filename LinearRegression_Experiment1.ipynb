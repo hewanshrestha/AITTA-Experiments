{
  "nbformat": 4,
  "nbformat_minor": 0,
  "metadata": {
    "colab": {
      "name": "LinearRegression Experiment1.ipynb",
      "provenance": [],
      "authorship_tag": "ABX9TyNqNQ8tIByIxNsYpLL8ze5z",
      "include_colab_link": true
    },
    "kernelspec": {
      "name": "python3",
      "display_name": "Python 3"
    }
  },
  "cells": [
    {
      "cell_type": "markdown",
      "metadata": {
        "id": "view-in-github",
        "colab_type": "text"
      },
      "source": [
        "<a href=\"https://colab.research.google.com/github/hewanshrestha/ML_Algorithms/blob/master/LinearRegression_Experiment1.ipynb\" target=\"_parent\"><img src=\"https://colab.research.google.com/assets/colab-badge.svg\" alt=\"Open In Colab\"/></a>"
      ]
    },
    {
      "cell_type": "markdown",
      "metadata": {
        "id": "ChVXEz8oBjTQ"
      },
      "source": [
        "**Linear Regression from Scratch**"
      ]
    },
    {
      "cell_type": "code",
      "metadata": {
        "id": "yPWVaFxC9e0e"
      },
      "source": [
        "## importing libraries\r\n",
        "import numpy as np\r\n",
        "import pandas as pd\r\n",
        "import matplotlib.pyplot as plt\r\n",
        "%matplotlib inline"
      ],
      "execution_count": 85,
      "outputs": []
    },
    {
      "cell_type": "code",
      "metadata": {
        "id": "pxx66Vwz_Wt3"
      },
      "source": [
        "df = pd.read_csv('dataset.csv', index_col=[0])"
      ],
      "execution_count": 86,
      "outputs": []
    },
    {
      "cell_type": "code",
      "metadata": {
        "colab": {
          "base_uri": "https://localhost:8080/",
          "height": 204
        },
        "id": "2jTLXJVm_a5P",
        "outputId": "20f9a397-23cf-4c11-e6b0-ac5c383c6f4b"
      },
      "source": [
        "df.head()"
      ],
      "execution_count": 87,
      "outputs": [
        {
          "output_type": "execute_result",
          "data": {
            "text/html": [
              "<div>\n",
              "<style scoped>\n",
              "    .dataframe tbody tr th:only-of-type {\n",
              "        vertical-align: middle;\n",
              "    }\n",
              "\n",
              "    .dataframe tbody tr th {\n",
              "        vertical-align: top;\n",
              "    }\n",
              "\n",
              "    .dataframe thead th {\n",
              "        text-align: right;\n",
              "    }\n",
              "</style>\n",
              "<table border=\"1\" class=\"dataframe\">\n",
              "  <thead>\n",
              "    <tr style=\"text-align: right;\">\n",
              "      <th></th>\n",
              "      <th>x</th>\n",
              "      <th>y</th>\n",
              "    </tr>\n",
              "  </thead>\n",
              "  <tbody>\n",
              "    <tr>\n",
              "      <th>1</th>\n",
              "      <td>6.1101</td>\n",
              "      <td>17.5920</td>\n",
              "    </tr>\n",
              "    <tr>\n",
              "      <th>2</th>\n",
              "      <td>5.5277</td>\n",
              "      <td>9.1302</td>\n",
              "    </tr>\n",
              "    <tr>\n",
              "      <th>3</th>\n",
              "      <td>8.5186</td>\n",
              "      <td>13.6620</td>\n",
              "    </tr>\n",
              "    <tr>\n",
              "      <th>4</th>\n",
              "      <td>7.0032</td>\n",
              "      <td>11.8540</td>\n",
              "    </tr>\n",
              "    <tr>\n",
              "      <th>5</th>\n",
              "      <td>5.8598</td>\n",
              "      <td>6.8233</td>\n",
              "    </tr>\n",
              "  </tbody>\n",
              "</table>\n",
              "</div>"
            ],
            "text/plain": [
              "        x        y\n",
              "1  6.1101  17.5920\n",
              "2  5.5277   9.1302\n",
              "3  8.5186  13.6620\n",
              "4  7.0032  11.8540\n",
              "5  5.8598   6.8233"
            ]
          },
          "metadata": {
            "tags": []
          },
          "execution_count": 87
        }
      ]
    },
    {
      "cell_type": "code",
      "metadata": {
        "colab": {
          "base_uri": "https://localhost:8080/",
          "height": 204
        },
        "id": "g49au-Zu_czP",
        "outputId": "1e067dc7-e773-4645-e961-7036e0d6b329"
      },
      "source": [
        "#getting data from the file and separating it as input(x) and output\r\n",
        "x = df.iloc[:,0]\r\n",
        "#read second column profit as output\r\n",
        "y = df.iloc[:,1]\r\n",
        "#m is number of training examples\r\n",
        "m = len(y)\r\n",
        "#viewing first few rows of data\r\n",
        "df.head()"
      ],
      "execution_count": 88,
      "outputs": [
        {
          "output_type": "execute_result",
          "data": {
            "text/html": [
              "<div>\n",
              "<style scoped>\n",
              "    .dataframe tbody tr th:only-of-type {\n",
              "        vertical-align: middle;\n",
              "    }\n",
              "\n",
              "    .dataframe tbody tr th {\n",
              "        vertical-align: top;\n",
              "    }\n",
              "\n",
              "    .dataframe thead th {\n",
              "        text-align: right;\n",
              "    }\n",
              "</style>\n",
              "<table border=\"1\" class=\"dataframe\">\n",
              "  <thead>\n",
              "    <tr style=\"text-align: right;\">\n",
              "      <th></th>\n",
              "      <th>x</th>\n",
              "      <th>y</th>\n",
              "    </tr>\n",
              "  </thead>\n",
              "  <tbody>\n",
              "    <tr>\n",
              "      <th>1</th>\n",
              "      <td>6.1101</td>\n",
              "      <td>17.5920</td>\n",
              "    </tr>\n",
              "    <tr>\n",
              "      <th>2</th>\n",
              "      <td>5.5277</td>\n",
              "      <td>9.1302</td>\n",
              "    </tr>\n",
              "    <tr>\n",
              "      <th>3</th>\n",
              "      <td>8.5186</td>\n",
              "      <td>13.6620</td>\n",
              "    </tr>\n",
              "    <tr>\n",
              "      <th>4</th>\n",
              "      <td>7.0032</td>\n",
              "      <td>11.8540</td>\n",
              "    </tr>\n",
              "    <tr>\n",
              "      <th>5</th>\n",
              "      <td>5.8598</td>\n",
              "      <td>6.8233</td>\n",
              "    </tr>\n",
              "  </tbody>\n",
              "</table>\n",
              "</div>"
            ],
            "text/plain": [
              "        x        y\n",
              "1  6.1101  17.5920\n",
              "2  5.5277   9.1302\n",
              "3  8.5186  13.6620\n",
              "4  7.0032  11.8540\n",
              "5  5.8598   6.8233"
            ]
          },
          "metadata": {
            "tags": []
          },
          "execution_count": 88
        }
      ]
    },
    {
      "cell_type": "code",
      "metadata": {
        "colab": {
          "base_uri": "https://localhost:8080/",
          "height": 280
        },
        "id": "OdYnoQXN_guD",
        "outputId": "ecd402b3-a691-46a8-b246-508dd280f1e6"
      },
      "source": [
        "#plotting the data\r\n",
        "plt.scatter(x,y)\r\n",
        "plt.xlabel('Population of city in 10,000\\'s')\r\n",
        "plt.ylabel('Profit in $10,000\\'s')\r\n",
        "plt.show()"
      ],
      "execution_count": 89,
      "outputs": [
        {
          "output_type": "display_data",
          "data": {
            "image/png": "[encoded data removed]",
            "text/plain": [
              "<Figure size 432x288 with 1 Axes>"
            ]
          },
          "metadata": {
            "tags": [],
            "needs_background": "light"
          }
        }
      ]
    },
    {
      "cell_type": "code",
      "metadata": {
        "colab": {
          "base_uri": "https://localhost:8080/"
        },
        "id": "yNWUUj-1_2VG",
        "outputId": "c9d4627a-5107-4eee-a5ea-aac83bc213f2"
      },
      "source": [
        "#Increasing the rank of both x and y for operations\r\n",
        "x = x[:,np.newaxis]\r\n",
        "y = y[:,np.newaxis]\r\n",
        "theta = np.zeros([2,1])\r\n",
        "#[theta1]\r\n",
        "#[theta2]\r\n",
        "iterations= 1500\r\n",
        "alpha = 0.01\r\n",
        "ones = np.ones((m,1))\r\n",
        "x = np.hstack((ones,x)) #adding the ones column to x so that x*theta gives the h"
      ],
      "execution_count": 90,
      "outputs": [
        {
          "output_type": "stream",
          "text": [
            "/usr/local/lib/python3.7/dist-packages/ipykernel_launcher.py:2: FutureWarning: Support for multi-dimensional indexing (e.g. `obj[:, None]`) is deprecated and will be removed in a future version.  Convert to a numpy array before indexing instead.\n",
            "  \n",
            "/usr/local/lib/python3.7/dist-packages/ipykernel_launcher.py:3: FutureWarning: Support for multi-dimensional indexing (e.g. `obj[:, None]`) is deprecated and will be removed in a future version.  Convert to a numpy array before indexing instead.\n",
            "  This is separate from the ipykernel package so we can avoid doing imports until\n"
          ],
          "name": "stderr"
        }
      ]
    },
    {
      "cell_type": "code",
      "metadata": {
        "colab": {
          "base_uri": "https://localhost:8080/"
        },
        "id": "IOQ0yWFZ-qkm",
        "outputId": "c3b749b5-cf08-49fb-ab81-fc72cd3310c8"
      },
      "source": [
        "#computing the cost\r\n",
        "def computeCost(x,y,theta):\r\n",
        "    temp = np.dot(x,theta) - y\r\n",
        "    return np.sum(np.power(temp,2))/(2*m)\r\n",
        "J = computeCost(x,y,theta)\r\n",
        "print(J)"
      ],
      "execution_count": 91,
      "outputs": [
        {
          "output_type": "stream",
          "text": [
            "32.072733877455676\n"
          ],
          "name": "stdout"
        }
      ]
    },
    {
      "cell_type": "code",
      "metadata": {
        "colab": {
          "base_uri": "https://localhost:8080/"
        },
        "id": "mQG84P5m_7Ux",
        "outputId": "1b013b0e-02dd-49a9-a0d9-599303c4b7aa"
      },
      "source": [
        "#Finding theta1 and theta2 using gradient descent\r\n",
        "def gradientDescent(x,y,theta,alpha,iterations):\r\n",
        "    for _ in range(iterations):\r\n",
        "        temp = np.dot(x,theta)-y\r\n",
        "        temp = np.dot(x.T,temp)\r\n",
        "        theta = theta-(alpha/m)*temp\r\n",
        "    return theta\r\n",
        "theta = gradientDescent(x,y,theta,alpha,iterations)\r\n",
        "print(theta)"
      ],
      "execution_count": 92,
      "outputs": [
        {
          "output_type": "stream",
          "text": [
            "[[-3.63029144]\n",
            " [ 1.16636235]]\n"
          ],
          "name": "stdout"
        }
      ]
    },
    {
      "cell_type": "code",
      "metadata": {
        "colab": {
          "base_uri": "https://localhost:8080/"
        },
        "id": "06-ikmZwBD-h",
        "outputId": "e9129cac-504d-4b44-830a-1a90eefc6e5d"
      },
      "source": [
        "#compute cost using optimal theta\r\n",
        "J = computeCost(x,y,theta)\r\n",
        "print(J)"
      ],
      "execution_count": 93,
      "outputs": [
        {
          "output_type": "stream",
          "text": [
            "4.483388256587726\n"
          ],
          "name": "stdout"
        }
      ]
    },
    {
      "cell_type": "code",
      "metadata": {
        "colab": {
          "base_uri": "https://localhost:8080/",
          "height": 280
        },
        "id": "vOLSJkIsBE2_",
        "outputId": "938f32e8-c1d3-4f7b-f525-654dc0a6b96c"
      },
      "source": [
        "#plotting\r\n",
        "plt.scatter(x[:,1],y,color='green')\r\n",
        "plt.xlabel('Population of city in 10,000\\'s')\r\n",
        "plt.ylabel('Profit in $10,000\\'s')\r\n",
        "plt.plot(x[:,1],np.dot(x,theta),color='red')\r\n",
        "plt.show()\r\n"
      ],
      "execution_count": 94,
      "outputs": [
        {
          "output_type": "display_data",
          "data": {
            "image/png": "[encoded data removed]",
            "text/plain": [
              "<Figure size 432x288 with 1 Axes>"
            ]
          },
          "metadata": {
            "tags": [],
            "needs_background": "light"
          }
        }
      ]
    },
    {
      "cell_type": "markdown",
      "metadata": {
        "id": "43rhZ2-PBp_W"
      },
      "source": [
        "**Linear Regression using sklearn**"
      ]
    },
    {
      "cell_type": "code",
      "metadata": {
        "id": "_AtiouxRBtyA"
      },
      "source": [
        "#importing libraries\r\n",
        "import numpy as np\r\n",
        "import pandas as pd\r\n",
        "import matplotlib.pyplot as plt\r\n",
        "%matplotlib inline"
      ],
      "execution_count": 95,
      "outputs": []
    },
    {
      "cell_type": "code",
      "metadata": {
        "colab": {
          "base_uri": "https://localhost:8080/",
          "height": 204
        },
        "id": "Cus9hZg7B3V7",
        "outputId": "b38a8a7a-538b-4106-df66-45327f68f35f"
      },
      "source": [
        "#reading the dataset\r\n",
        "df = pd.read_csv('dataset.csv',index_col=[0])\r\n",
        "df.head()"
      ],
      "execution_count": 96,
      "outputs": [
        {
          "output_type": "execute_result",
          "data": {
            "text/html": [
              "<div>\n",
              "<style scoped>\n",
              "    .dataframe tbody tr th:only-of-type {\n",
              "        vertical-align: middle;\n",
              "    }\n",
              "\n",
              "    .dataframe tbody tr th {\n",
              "        vertical-align: top;\n",
              "    }\n",
              "\n",
              "    .dataframe thead th {\n",
              "        text-align: right;\n",
              "    }\n",
              "</style>\n",
              "<table border=\"1\" class=\"dataframe\">\n",
              "  <thead>\n",
              "    <tr style=\"text-align: right;\">\n",
              "      <th></th>\n",
              "      <th>x</th>\n",
              "      <th>y</th>\n",
              "    </tr>\n",
              "  </thead>\n",
              "  <tbody>\n",
              "    <tr>\n",
              "      <th>1</th>\n",
              "      <td>6.1101</td>\n",
              "      <td>17.5920</td>\n",
              "    </tr>\n",
              "    <tr>\n",
              "      <th>2</th>\n",
              "      <td>5.5277</td>\n",
              "      <td>9.1302</td>\n",
              "    </tr>\n",
              "    <tr>\n",
              "      <th>3</th>\n",
              "      <td>8.5186</td>\n",
              "      <td>13.6620</td>\n",
              "    </tr>\n",
              "    <tr>\n",
              "      <th>4</th>\n",
              "      <td>7.0032</td>\n",
              "      <td>11.8540</td>\n",
              "    </tr>\n",
              "    <tr>\n",
              "      <th>5</th>\n",
              "      <td>5.8598</td>\n",
              "      <td>6.8233</td>\n",
              "    </tr>\n",
              "  </tbody>\n",
              "</table>\n",
              "</div>"
            ],
            "text/plain": [
              "        x        y\n",
              "1  6.1101  17.5920\n",
              "2  5.5277   9.1302\n",
              "3  8.5186  13.6620\n",
              "4  7.0032  11.8540\n",
              "5  5.8598   6.8233"
            ]
          },
          "metadata": {
            "tags": []
          },
          "execution_count": 96
        }
      ]
    },
    {
      "cell_type": "code",
      "metadata": {
        "id": "cmtdbibyB9gb"
      },
      "source": [
        "X = df.iloc[:,0]\r\n",
        "y = df.iloc[:,1]"
      ],
      "execution_count": 97,
      "outputs": []
    },
    {
      "cell_type": "code",
      "metadata": {
        "colab": {
          "base_uri": "https://localhost:8080/",
          "height": 280
        },
        "id": "SukHJXHvCB3s",
        "outputId": "b27d547f-bf83-441b-ade1-924cbca08cfe"
      },
      "source": [
        "#plotting the samples\r\n",
        "plt.figure()\r\n",
        "plt.scatter(X,y,color='green')\r\n",
        "plt.xlabel('Population of City')\r\n",
        "plt.ylabel('Profits')\r\n",
        "plt.show()"
      ],
      "execution_count": 98,
      "outputs": [
        {
          "output_type": "display_data",
          "data": {
            "image/png": "[encoded data removed]",
            "text/plain": [
              "<Figure size 432x288 with 1 Axes>"
            ]
          },
          "metadata": {
            "tags": [],
            "needs_background": "light"
          }
        }
      ]
    },
    {
      "cell_type": "code",
      "metadata": {
        "colab": {
          "base_uri": "https://localhost:8080/"
        },
        "id": "-9ETcE1ZCP3a",
        "outputId": "c849c1ca-6b8c-4723-da8f-f7aba660f862"
      },
      "source": [
        "from sklearn.linear_model import LinearRegression\r\n",
        "X = X[:,np.newaxis]\r\n",
        "y = y[:,np.newaxis]\r\n",
        "model = LinearRegression()\r\n",
        "model.fit(X,y)"
      ],
      "execution_count": 99,
      "outputs": [
        {
          "output_type": "stream",
          "text": [
            "/usr/local/lib/python3.7/dist-packages/ipykernel_launcher.py:2: FutureWarning: Support for multi-dimensional indexing (e.g. `obj[:, None]`) is deprecated and will be removed in a future version.  Convert to a numpy array before indexing instead.\n",
            "  \n",
            "/usr/local/lib/python3.7/dist-packages/ipykernel_launcher.py:3: FutureWarning: Support for multi-dimensional indexing (e.g. `obj[:, None]`) is deprecated and will be removed in a future version.  Convert to a numpy array before indexing instead.\n",
            "  This is separate from the ipykernel package so we can avoid doing imports until\n"
          ],
          "name": "stderr"
        },
        {
          "output_type": "execute_result",
          "data": {
            "text/plain": [
              "LinearRegression(copy_X=True, fit_intercept=True, n_jobs=None, normalize=False)"
            ]
          },
          "metadata": {
            "tags": []
          },
          "execution_count": 99
        }
      ]
    },
    {
      "cell_type": "code",
      "metadata": {
        "colab": {
          "base_uri": "https://localhost:8080/"
        },
        "id": "v3PniSyOEynt",
        "outputId": "7caa68ee-adc3-49d4-caa6-3f2fe921d1f3"
      },
      "source": [
        "model.intercept_"
      ],
      "execution_count": 100,
      "outputs": [
        {
          "output_type": "execute_result",
          "data": {
            "text/plain": [
              "array([-3.89578088])"
            ]
          },
          "metadata": {
            "tags": []
          },
          "execution_count": 100
        }
      ]
    },
    {
      "cell_type": "code",
      "metadata": {
        "colab": {
          "base_uri": "https://localhost:8080/"
        },
        "id": "MuMuDqujFl9x",
        "outputId": "4cddaba4-fb60-4696-cfe9-a29b628f2e63"
      },
      "source": [
        "model.coef_"
      ],
      "execution_count": 101,
      "outputs": [
        {
          "output_type": "execute_result",
          "data": {
            "text/plain": [
              "array([[1.19303364]])"
            ]
          },
          "metadata": {
            "tags": []
          },
          "execution_count": 101
        }
      ]
    },
    {
      "cell_type": "code",
      "metadata": {
        "colab": {
          "base_uri": "https://localhost:8080/",
          "height": 280
        },
        "id": "sl1zSEzuIBVV",
        "outputId": "463a3e6f-cf4c-4b66-8ad1-bcacf0bc9267"
      },
      "source": [
        "plt.figure()\r\n",
        "plt.scatter(X,y,color='green')\r\n",
        "plt.xlabel('Population of City')\r\n",
        "plt.ylabel('Profits')\r\n",
        "plt.plot(X,X,color='red')\r\n",
        "plt.show()"
      ],
      "execution_count": 102,
      "outputs": [
        {
          "output_type": "display_data",
          "data": {
            "image/png": "[encoded data removed]",
            "text/plain": [
              "<Figure size 432x288 with 1 Axes>"
            ]
          },
          "metadata": {
            "tags": [],
            "needs_background": "light"
          }
        }
      ]
    },
    {
      "cell_type": "code",
      "metadata": {
        "colab": {
          "base_uri": "https://localhost:8080/"
        },
        "id": "7En3bd_OIxBU",
        "outputId": "cae889b5-073f-4c46-fca9-bc60ff29d46a"
      },
      "source": [
        "y_pred = model.predict([[20.27]])\r\n",
        "y_pred"
      ],
      "execution_count": 103,
      "outputs": [
        {
          "output_type": "execute_result",
          "data": {
            "text/plain": [
              "array([[20.28701109]])"
            ]
          },
          "metadata": {
            "tags": []
          },
          "execution_count": 103
        }
      ]
    },
    {
      "cell_type": "code",
      "metadata": {
        "colab": {
          "base_uri": "https://localhost:8080/"
        },
        "id": "wJSHL1L1Foq5",
        "outputId": "e9abcc06-2431-4b19-8efe-0aff81151a8e"
      },
      "source": [
        "from sklearn.metrics import mean_squared_error\r\n",
        "mean_squared_error([[21.767]], y_pred)"
      ],
      "execution_count": 105,
      "outputs": [
        {
          "output_type": "execute_result",
          "data": {
            "text/plain": [
              "2.1903671754657954"
            ]
          },
          "metadata": {
            "tags": []
          },
          "execution_count": 105
        }
      ]
    }
  ]
}