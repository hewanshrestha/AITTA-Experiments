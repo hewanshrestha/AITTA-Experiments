{
  "nbformat": 4,
  "nbformat_minor": 0,
  "metadata": {
    "colab": {
      "name": "UnivariateLinearRegression.ipynb",
      "provenance": [],
      "authorship_tag": "ABX9TyMmTiJSlc72PdNuDZBJL0Zj",
      "include_colab_link": true
    },
    "kernelspec": {
      "name": "python3",
      "display_name": "Python 3"
    }
  },
  "cells": [
    {
      "cell_type": "markdown",
      "metadata": {
        "id": "view-in-github",
        "colab_type": "text"
      },
      "source": [
        "<a href=\"https://colab.research.google.com/github/hewanshrestha/ML_Algorithms/blob/master/UnivariateLinearRegression.ipynb\" target=\"_parent\"><img src=\"https://colab.research.google.com/assets/colab-badge.svg\" alt=\"Open In Colab\"/></a>"
      ]
    },
    {
      "cell_type": "markdown",
      "metadata": {
        "id": "QuOMDSYLXyBU"
      },
      "source": [
        "**Linear Regression using Single Variable**"
      ]
    },
    {
      "cell_type": "code",
      "metadata": {
        "id": "uvJlCNE6X7Vj"
      },
      "source": [
        "# importing the libraries\r\n",
        "import numpy as np\r\n",
        "import pandas as pd\r\n",
        "import matplotlib.pyplot as plt\r\n",
        "from sklearn import datasets, linear_model\r\n",
        "from sklearn.metrics import mean_squared_error, r2_score"
      ],
      "execution_count": 27,
      "outputs": []
    },
    {
      "cell_type": "code",
      "metadata": {
        "id": "_q8Xkyw_YRzD"
      },
      "source": [
        "# loading the datasets\r\n",
        "diabetes_X, diabetes_y = datasets.load_diabetes(return_X_y = True)\r\n"
      ],
      "execution_count": 28,
      "outputs": []
    },
    {
      "cell_type": "code",
      "metadata": {
        "id": "II32jDgKYE1L"
      },
      "source": [
        "# using only one feature\r\n",
        "diabetes_X = diabetes_X[:, np.newaxis, 2]"
      ],
      "execution_count": 29,
      "outputs": []
    },
    {
      "cell_type": "code",
      "metadata": {
        "id": "uX03CANBYrdq"
      },
      "source": [
        "# splitting the dataset into train/test set\r\n",
        "diabetes_X_train = diabetes_X[:-20]\r\n",
        "diabetes_X_test = diabetes_X[-20:]"
      ],
      "execution_count": 30,
      "outputs": []
    },
    {
      "cell_type": "code",
      "metadata": {
        "id": "AYYd5BH2Y-39"
      },
      "source": [
        "# splitting the target into train/test set\r\n",
        "diabetes_y_train = diabetes_y[:-20]\r\n",
        "diabetes_y_test = diabetes_y[-20:]"
      ],
      "execution_count": 31,
      "outputs": []
    },
    {
      "cell_type": "code",
      "metadata": {
        "id": "vyX3iu_VZP5r"
      },
      "source": [
        "# creating the linear regression model\r\n",
        "model = linear_model.LinearRegression()"
      ],
      "execution_count": 32,
      "outputs": []
    },
    {
      "cell_type": "code",
      "metadata": {
        "colab": {
          "base_uri": "https://localhost:8080/"
        },
        "id": "wZnvGeMeZakN",
        "outputId": "b63ab5e2-7fe2-4ef3-ac21-f073b9c46390"
      },
      "source": [
        "# training the model with training sets\r\n",
        "model.fit(diabetes_X_train, diabetes_y_train)\r\n"
      ],
      "execution_count": 33,
      "outputs": [
        {
          "output_type": "execute_result",
          "data": {
            "text/plain": [
              "LinearRegression(copy_X=True, fit_intercept=True, n_jobs=None, normalize=False)"
            ]
          },
          "metadata": {
            "tags": []
          },
          "execution_count": 33
        }
      ]
    },
    {
      "cell_type": "code",
      "metadata": {
        "colab": {
          "base_uri": "https://localhost:8080/",
          "height": 282
        },
        "id": "hBmup3isZnjL",
        "outputId": "68e226c6-c2df-4a0b-92f6-ebad9660bd1a"
      },
      "source": [
        "# plotting the training set\r\n",
        "plt.scatter(diabetes_X_train, diabetes_y_train, marker='*', color='g')\r\n"
      ],
      "execution_count": 34,
      "outputs": [
        {
          "output_type": "execute_result",
          "data": {
            "text/plain": [
              "<matplotlib.collections.PathCollection at 0x7f51458e9cd0>"
            ]
          },
          "metadata": {
            "tags": []
          },
          "execution_count": 34
        },
        {
          "output_type": "display_data",
          "data": {
            "image/png": "[encoded data removed]",
            "text/plain": [
              "<Figure size 432x288 with 1 Axes>"
            ]
          },
          "metadata": {
            "tags": [],
            "needs_background": "light"
          }
        }
      ]
    },
    {
      "cell_type": "code",
      "metadata": {
        "colab": {
          "base_uri": "https://localhost:8080/",
          "height": 282
        },
        "id": "-u6loT17Z3da",
        "outputId": "45600aca-24c9-49b3-dafd-e05b1aa45649"
      },
      "source": [
        "# making predictions using the training set\r\n",
        "y_pred = model.predict(diabetes_X_train)\r\n",
        "plt.plot(diabetes_X_train, y_pred, marker='*', color='b')"
      ],
      "execution_count": 41,
      "outputs": [
        {
          "output_type": "execute_result",
          "data": {
            "text/plain": [
              "[<matplotlib.lines.Line2D at 0x7f5145668190>]"
            ]
          },
          "metadata": {
            "tags": []
          },
          "execution_count": 41
        },
        {
          "output_type": "display_data",
          "data": {
            "image/png": "[encoded data removed]",
            "text/plain": [
              "<Figure size 432x288 with 1 Axes>"
            ]
          },
          "metadata": {
            "tags": [],
            "needs_background": "light"
          }
        }
      ]
    },
    {
      "cell_type": "code",
      "metadata": {
        "colab": {
          "base_uri": "https://localhost:8080/",
          "height": 282
        },
        "id": "hpYPhewYauc4",
        "outputId": "f853f9fc-b6f2-4bd0-dcf4-4ea73cb9e844"
      },
      "source": [
        "# making predictions using the testing set\r\n",
        "y_pred = model.predict(diabetes_X_test)\r\n",
        "plt.scatter(diabetes_X_test, diabetes_y_test,  color='black')\r\n",
        "plt.plot(diabetes_X_test, y_pred, color='blue', linewidth=2)"
      ],
      "execution_count": 43,
      "outputs": [
        {
          "output_type": "execute_result",
          "data": {
            "text/plain": [
              "[<matplotlib.lines.Line2D at 0x7f51458b69d0>]"
            ]
          },
          "metadata": {
            "tags": []
          },
          "execution_count": 43
        },
        {
          "output_type": "display_data",
          "data": {
            "image/png": "[encoded data removed]",
            "text/plain": [
              "<Figure size 432x288 with 1 Axes>"
            ]
          },
          "metadata": {
            "tags": [],
            "needs_background": "light"
          }
        }
      ]
    },
    {
      "cell_type": "code",
      "metadata": {
        "colab": {
          "base_uri": "https://localhost:8080/"
        },
        "id": "abRrr7iGcRAh",
        "outputId": "c98193bd-d574-47d6-f071-0ced89cf4409"
      },
      "source": [
        "# checking the error metrics\r\n",
        "print(\"Mean Squared Error: \",mean_squared_error(diabetes_y_test, y_pred))\r\n",
        "print(\"R2 Score: \",r2_score(diabetes_y_test, y_pred))"
      ],
      "execution_count": 46,
      "outputs": [
        {
          "output_type": "stream",
          "text": [
            "Mean Squared Error:  2548.0723987259694\n",
            "R2 Score:  0.47257544798227147\n"
          ],
          "name": "stdout"
        }
      ]
    }
  ]
}