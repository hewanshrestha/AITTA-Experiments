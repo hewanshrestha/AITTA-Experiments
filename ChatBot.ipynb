{
  "nbformat": 4,
  "nbformat_minor": 0,
  "metadata": {
    "colab": {
      "name": "ChatBot.ipynb",
      "provenance": [],
      "authorship_tag": "ABX9TyN4LHRqZM8B+FmOgMyVzlvU",
      "include_colab_link": true
    },
    "kernelspec": {
      "name": "python3",
      "display_name": "Python 3"
    },
    "language_info": {
      "name": "python"
    }
  },
  "cells": [
    {
      "cell_type": "markdown",
      "metadata": {
        "id": "view-in-github",
        "colab_type": "text"
      },
      "source": [
        "<a href=\"https://colab.research.google.com/github/hewanshrestha/ML_Algorithms/blob/master/ChatBot.ipynb\" target=\"_parent\"><img src=\"https://colab.research.google.com/assets/colab-badge.svg\" alt=\"Open In Colab\"/></a>"
      ]
    },
    {
      "cell_type": "markdown",
      "metadata": {
        "id": "qHYmZP8LjTW7"
      },
      "source": [
        "**Chatbot Demonstration**"
      ]
    },
    {
      "cell_type": "code",
      "metadata": {
        "colab": {
          "base_uri": "https://localhost:8080/"
        },
        "id": "-JBfvT8pjOIe",
        "outputId": "3bca1ddf-e070-4728-cff4-10e2b76185e7"
      },
      "source": [
        "# installing the requrired libraries\n",
        "!pip install chatterbot\n",
        "!pip install chatterbot_corpus"
      ],
      "execution_count": 1,
      "outputs": [
        {
          "output_type": "stream",
          "name": "stdout",
          "text": [
            "Collecting chatterbot\n",
            "  Downloading ChatterBot-1.0.8-py2.py3-none-any.whl (63 kB)\n",
            "\u001b[?25l\r\u001b[K     |█████▏                          | 10 kB 21.2 MB/s eta 0:00:01\r\u001b[K     |██████████▎                     | 20 kB 27.3 MB/s eta 0:00:01\r\u001b[K     |███████████████▌                | 30 kB 11.7 MB/s eta 0:00:01\r\u001b[K     |████████████████████▋           | 40 kB 9.1 MB/s eta 0:00:01\r\u001b[K     |█████████████████████████▊      | 51 kB 5.1 MB/s eta 0:00:01\r\u001b[K     |███████████████████████████████ | 61 kB 5.5 MB/s eta 0:00:01\r\u001b[K     |████████████████████████████████| 63 kB 1.4 MB/s \n",
            "\u001b[?25hRequirement already satisfied: pytz in /usr/local/lib/python3.7/dist-packages (from chatterbot) (2018.9)\n",
            "Collecting mathparse<0.2,>=0.1\n",
            "  Downloading mathparse-0.1.2-py3-none-any.whl (7.2 kB)\n",
            "Collecting sqlalchemy<1.4,>=1.3\n",
            "  Downloading SQLAlchemy-1.3.24-cp37-cp37m-manylinux2010_x86_64.whl (1.3 MB)\n",
            "\u001b[K     |████████████████████████████████| 1.3 MB 11.1 MB/s \n",
            "\u001b[?25hRequirement already satisfied: python-dateutil<2.9,>=2.8 in /usr/local/lib/python3.7/dist-packages (from chatterbot) (2.8.2)\n",
            "Requirement already satisfied: six>=1.5 in /usr/local/lib/python3.7/dist-packages (from python-dateutil<2.9,>=2.8->chatterbot) (1.15.0)\n",
            "Installing collected packages: sqlalchemy, mathparse, chatterbot\n",
            "  Attempting uninstall: sqlalchemy\n",
            "    Found existing installation: SQLAlchemy 1.4.22\n",
            "    Uninstalling SQLAlchemy-1.4.22:\n",
            "      Successfully uninstalled SQLAlchemy-1.4.22\n",
            "Successfully installed chatterbot-1.0.8 mathparse-0.1.2 sqlalchemy-1.3.24\n",
            "Collecting chatterbot_corpus\n",
            "  Downloading chatterbot_corpus-1.2.0-py2.py3-none-any.whl (117 kB)\n",
            "\u001b[K     |████████████████████████████████| 117 kB 5.1 MB/s \n",
            "\u001b[?25hRequirement already satisfied: PyYAML<4.0,>=3.12 in /usr/local/lib/python3.7/dist-packages (from chatterbot_corpus) (3.13)\n",
            "Installing collected packages: chatterbot-corpus\n",
            "Successfully installed chatterbot-corpus-1.2.0\n"
          ]
        }
      ]
    },
    {
      "cell_type": "code",
      "metadata": {
        "id": "OBtlm7qwj0qf",
        "outputId": "fcf63687-71f6-4ea6-d7bf-5ca7e69eb891",
        "colab": {
          "base_uri": "https://localhost:8080/"
        }
      },
      "source": [
        "from chatterbot import ChatBot\n",
        "from chatterbot.trainers import ListTrainer\n",
        "my_bot = ChatBot(name='PyBot', read_only=True,\n",
        "logic_adapters=['chatterbot.logic.MathematicalEvaluation',\n",
        "'chatterbot.logic.BestMatch'])\n",
        "small_talk = ['hi there!',\n",
        "'hi!',\n",
        "'how do you do?',\n",
        "'how are you?',\n",
        "'i\\'m cool.',\n",
        "'fine, you?',\n",
        "'always cool.',\n",
        "'i\\'m ok',\n",
        "'glad to hear that.',\n",
        "'i\\'m fine',\n",
        "'glad to hear that.',\n",
        "'i feel awesome',\n",
        "'excellent, glad to hear that.',\n",
        "'not so good',\n",
        "'sorry to hear that.',\n",
        "'what\\'s your name?',\n",
        "'i\\'m pybot. ask me a math question, please.']\n",
        "math_talk_1 = ['pythagorean theorem',\n",
        "'a squared plus b squared equals c squared.']\n",
        "math_talk_2 = ['law of cosines',\n",
        "'c**2 = a**2 + b**2 - 2 * a * b * cos(gamma)']\n",
        "list_trainer = ListTrainer(my_bot)\n",
        "for item in (small_talk, math_talk_1, math_talk_2):\n",
        "  list_trainer.train(item)"
      ],
      "execution_count": 12,
      "outputs": [
        {
          "output_type": "stream",
          "name": "stdout",
          "text": [
            "List Trainer: [####################] 100%\n",
            "List Trainer: [####################] 100%\n",
            "List Trainer: [####################] 100%\n"
          ]
        }
      ]
    },
    {
      "cell_type": "code",
      "metadata": {
        "id": "fEgdfAnokbey",
        "outputId": "cea70368-da07-41b1-df71-3fb551139a48",
        "colab": {
          "base_uri": "https://localhost:8080/"
        }
      },
      "source": [
        "from chatterbot.trainers import ChatterBotCorpusTrainer\n",
        "corpus_trainer = ChatterBotCorpusTrainer(my_bot)\n",
        "corpus_trainer.train('chatterbot.corpus.english')"
      ],
      "execution_count": 13,
      "outputs": [
        {
          "output_type": "stream",
          "name": "stdout",
          "text": [
            "Training ai.yml: [####################] 100%\n",
            "Training botprofile.yml: [####################] 100%\n",
            "Training computers.yml: [####################] 100%\n",
            "Training conversations.yml: [####################] 100%\n",
            "Training emotion.yml: [####################] 100%\n",
            "Training food.yml: [####################] 100%\n",
            "Training gossip.yml: [####################] 100%\n",
            "Training greetings.yml: [####################] 100%\n",
            "Training health.yml: [####################] 100%\n",
            "Training history.yml: [####################] 100%\n",
            "Training humor.yml: [####################] 100%\n",
            "Training literature.yml: [####################] 100%\n",
            "Training money.yml: [####################] 100%\n",
            "Training movies.yml: [####################] 100%\n",
            "Training politics.yml: [####################] 100%\n",
            "Training psychology.yml: [####################] 100%\n",
            "Training science.yml: [####################] 100%\n",
            "Training sports.yml: [####################] 100%\n",
            "Training trivia.yml: [####################] 100%\n"
          ]
        }
      ]
    },
    {
      "cell_type": "code",
      "metadata": {
        "id": "JLYvZWDckoZT",
        "outputId": "804601e3-00a6-4865-823e-cbab9459a0ce",
        "colab": {
          "base_uri": "https://localhost:8080/"
        }
      },
      "source": [
        "print(my_bot.get_response('what is law of cosine'))"
      ],
      "execution_count": 18,
      "outputs": [
        {
          "output_type": "stream",
          "name": "stdout",
          "text": [
            "c**2 = a**2 + b**2 - 2 * a * b * cos(gamma)\n"
          ]
        }
      ]
    }
  ]
}