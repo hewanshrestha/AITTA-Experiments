{
  "nbformat": 4,
  "nbformat_minor": 0,
  "metadata": {
    "colab": {
      "name": "Exp3.ipynb",
      "provenance": [],
      "authorship_tag": "ABX9TyN4YFMfj8CnBUuLqcuq2FAq",
      "include_colab_link": true
    },
    "kernelspec": {
      "name": "python3",
      "display_name": "Python 3"
    },
    "language_info": {
      "name": "python"
    }
  },
  "cells": [
    {
      "cell_type": "markdown",
      "metadata": {
        "id": "view-in-github",
        "colab_type": "text"
      },
      "source": [
        "<a href=\"https://colab.research.google.com/github/hewanshrestha/ML_Algorithms/blob/master/Exp3.ipynb\" target=\"_parent\"><img src=\"https://colab.research.google.com/assets/colab-badge.svg\" alt=\"Open In Colab\"/></a>"
      ]
    },
    {
      "cell_type": "code",
      "metadata": {
        "id": "a_2Vbt2FzMOh"
      },
      "source": [
        "import pandas as pd\n",
        "import matplotlib.pyplot as plt\n",
        "from sklearn.cluster import KMeans"
      ],
      "execution_count": 1,
      "outputs": []
    },
    {
      "cell_type": "code",
      "metadata": {
        "colab": {
          "base_uri": "https://localhost:8080/"
        },
        "id": "25A3hEmXzeve",
        "outputId": "9e0ece42-b70b-489a-b106-1fd528217d3f"
      },
      "source": [
        "df = pd.DataFrame({'x':[1,1,5,3,2,7,2,8,3,5,3,6,4,6],'y':[1,2,5,8,3,6,2,3,4,6,3,6,3,5]})\n",
        "kmeans = KMeans(n_clusters = 2)\n",
        "kmeans.fit(df)"
      ],
      "execution_count": 19,
      "outputs": [
        {
          "output_type": "execute_result",
          "data": {
            "text/plain": [
              "KMeans(algorithm='auto', copy_x=True, init='k-means++', max_iter=300,\n",
              "       n_clusters=2, n_init=10, n_jobs=None, precompute_distances='auto',\n",
              "       random_state=None, tol=0.0001, verbose=0)"
            ]
          },
          "metadata": {},
          "execution_count": 19
        }
      ]
    },
    {
      "cell_type": "code",
      "metadata": {
        "id": "fIVvBYp2zvze"
      },
      "source": [
        "labels = kmeans.predict(df)\n",
        "centroids = kmeans.cluster_centers_"
      ],
      "execution_count": 20,
      "outputs": []
    },
    {
      "cell_type": "code",
      "metadata": {
        "colab": {
          "base_uri": "https://localhost:8080/",
          "height": 296
        },
        "id": "RnRfRl-zz5vR",
        "outputId": "14ced941-8e5b-4118-f2d3-453a0d6ecd03"
      },
      "source": [
        "plt.xlabel('Variable_1')\n",
        "plt.ylabel('Variable_2')\n",
        "plt.title('KMeans')\n",
        "plt.scatter(df['x'],df['y'],50,labels, marker='*')\n",
        "for i in centroids:\n",
        "  plt.scatter(i[0],i[1],250)"
      ],
      "execution_count": 25,
      "outputs": [
        {
          "output_type": "display_data",
          "data": {
            "image/png": "[encoded data removed]",
            "text/plain": [
              "<Figure size 432x288 with 1 Axes>"
            ]
          },
          "metadata": {
            "needs_background": "light"
          }
        }
      ]
    }
  ]
}