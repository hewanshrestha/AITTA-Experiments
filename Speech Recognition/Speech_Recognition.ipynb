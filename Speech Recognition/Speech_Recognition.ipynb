{
  "nbformat": 4,
  "nbformat_minor": 0,
  "metadata": {
    "colab": {
      "name": "Speech_Recognition.ipynb",
      "provenance": []
    },
    "kernelspec": {
      "name": "python3",
      "display_name": "Python 3"
    },
    "language_info": {
      "name": "python"
    }
  },
  "cells": [
    {
      "cell_type": "code",
      "metadata": {
        "colab": {
          "base_uri": "https://localhost:8080/"
        },
        "id": "_UZimDZZqrFh",
        "outputId": "c4fa31ea-60ee-4ddc-cc17-d3b85741a070"
      },
      "source": [
        "!pip install SpeechRecognition"
      ],
      "execution_count": 7,
      "outputs": [
        {
          "output_type": "stream",
          "name": "stdout",
          "text": [
            "Requirement already satisfied: SpeechRecognition in /usr/local/lib/python3.7/dist-packages (3.8.1)\n"
          ]
        }
      ]
    },
    {
      "cell_type": "code",
      "metadata": {
        "id": "RWSjYvrMrIyD"
      },
      "source": [
        "import speech_recognition as sr\n",
        "r = sr.Recognizer()\n"
      ],
      "execution_count": 8,
      "outputs": []
    },
    {
      "cell_type": "code",
      "metadata": {
        "colab": {
          "base_uri": "https://localhost:8080/"
        },
        "id": "awHQ7cwIw9f7",
        "outputId": "865de1da-7130-44bc-99c0-21b9cce02f87"
      },
      "source": [
        "a=sr.AudioFile('file.wav')\n",
        "with a as source:\n",
        "  audio=r.record(source)\n",
        "  try:\n",
        "    t=k.recognize_google(audio)\n",
        "    print(t)\n",
        "  except:\n",
        "    print(\"not recognizing......\")"
      ],
      "execution_count": 9,
      "outputs": [
        {
          "output_type": "stream",
          "name": "stdout",
          "text": [
            "listen read repeat I have my green card and I want to work I will call one company it is a small company it is not a long way from my home I think it is a nice place to work I have the phone number I will call today and ask about work work is a very important thing to find\n"
          ]
        }
      ]
    }
  ]
}