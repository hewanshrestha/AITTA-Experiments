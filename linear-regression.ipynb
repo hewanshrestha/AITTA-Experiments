#importing libraries
import numpy as np
import pandas as pd
import matplotlib.pyplot as plt

from google.colab import files
uploaded = files.upload()

df = pd.read_csv("ex1data1.csv", index_col=[0])
df

#getting data from the file and separating it as input(x) and output
x = df.iloc[:,0]
#read second column profit as output
y = df.iloc[:,1]
#m is number of training examples
m = len(y)
#viewing first few rows of data
df.head()

#plotting the data
plt.scatter(x,y)
plt.xlabel('Population of city in 10,000\'s')
plt.ylabel('Profit in $10,000\'s')
plt.show()

#Increasing the rank of both x and y for operations
x = x[:,np.newaxis]
y = y[:,np.newaxis]
theta = np.zeros([2,1])
#[theta1]
#[theta2]
iterations= 1500
alpha = 0.01
ones = np.ones((m,1))
x = np.hstack((ones,x)) #adding the ones column to x so that x*theta gives the h


#computing the cost
def computeCost(x,y,theta):
    temp = np.dot(x,theta) - y
    return np.sum(np.power(temp,2))/(2*m)
J = computeCost(x,y,theta)
print(J)


#Finding theta1 and theta2 using gradient descent
def gradientDescent(x,y,theta,alpha,iterations):
    for _ in range(iterations):
        temp = np.dot(x,theta)-y
        temp = np.dot(x.T,temp)
        theta = theta-(alpha/m)*temp
    return theta
theta = gradientDescent(x,y,theta,alpha,iterations)
print(theta)


#compute cost using optimal theta
J = computeCost(x,y,theta)
print(J)

#plotting
plt.scatter(x[:,1],y)
plt.xlabel('Population of city in 10,000\'s')
plt.ylabel('Profit in $10,000\'s')
plt.plot(x[:,1],np.dot(x,theta))
plt.show()




