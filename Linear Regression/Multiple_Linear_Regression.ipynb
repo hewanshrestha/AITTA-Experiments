{
  "nbformat": 4,
  "nbformat_minor": 0,
  "metadata": {
    "colab": {
      "name": "Multiple_Linear_Regression.ipynb",
      "provenance": []
    },
    "kernelspec": {
      "name": "python3",
      "display_name": "Python 3"
    }
  },
  "cells": [
    {
      "cell_type": "code",
      "metadata": {
        "id": "MI17EexnTupH"
      },
      "source": [
        "#importing libraries\n",
        "\n",
        "import numpy as np\n",
        "import pandas as pd\n",
        "import matplotlib.pyplot as plt"
      ],
      "execution_count": 20,
      "outputs": []
    },
    {
      "cell_type": "code",
      "metadata": {
        "id": "7cMwgzWXXXsb"
      },
      "source": [
        "#importing the dataset\n",
        "\n",
        "dataset = pd.read_csv('50_Startups.csv')\n",
        "X = dataset.iloc[:, :-1]\n",
        "y = dataset.iloc[:, 4]"
      ],
      "execution_count": 21,
      "outputs": []
    },
    {
      "cell_type": "code",
      "metadata": {
        "id": "uIwCAj2cYC_X"
      },
      "source": [
        "#convert the columns into categorical columns\n",
        "states = pd.get_dummies(X['State'], drop_first=True)\n",
        "\n",
        "#drop the state column\n",
        "X = X.drop('State', axis=1)\n",
        "\n",
        "#concat the dummy variables\n",
        "X = pd.concat([X, states], axis=1)"
      ],
      "execution_count": 22,
      "outputs": []
    },
    {
      "cell_type": "code",
      "metadata": {
        "id": "bvFYQTy3YR26"
      },
      "source": [
        "#splitting the dataset into training and testing set\n",
        "\n",
        "from sklearn.model_selection import train_test_split\n",
        "X_train, X_test, y_train, y_test = train_test_split(X, y, test_size=0.2, random_state=0)\n"
      ],
      "execution_count": 23,
      "outputs": []
    },
    {
      "cell_type": "code",
      "metadata": {
        "id": "iKXKXU2XZPOb"
      },
      "source": [
        "#fitting Multiple Linear Regression to the training set\n",
        "\n",
        "from sklearn.linear_model import LinearRegression\n",
        "reg = LinearRegression()\n",
        "reg.fit(X_train, y_train)\n",
        "\n",
        "#predicting test set results\n",
        "y_pred = reg.predict(X_test)\n"
      ],
      "execution_count": 24,
      "outputs": []
    },
    {
      "cell_type": "code",
      "metadata": {
        "colab": {
          "base_uri": "https://localhost:8080/"
        },
        "id": "0UZC2gKUZdpd",
        "outputId": "e83d2444-edc1-4d85-9723-b4749298413d"
      },
      "source": [
        "#evaluating the score\n",
        "\n",
        "from sklearn.metrics import r2_score\n",
        "score = r2_score(y_test, y_pred)\n",
        "\n",
        "print(score)"
      ],
      "execution_count": 25,
      "outputs": [
        {
          "output_type": "stream",
          "text": [
            "0.9347068473282423\n"
          ],
          "name": "stdout"
        }
      ]
    }
  ]
}