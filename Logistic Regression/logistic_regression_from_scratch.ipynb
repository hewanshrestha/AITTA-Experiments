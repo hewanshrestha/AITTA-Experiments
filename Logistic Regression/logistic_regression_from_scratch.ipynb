{
  "nbformat": 4,
  "nbformat_minor": 0,
  "metadata": {
    "colab": {
      "name": "logistic_regression_from_scratch.ipynb",
      "provenance": []
    },
    "kernelspec": {
      "display_name": "Python 3",
      "name": "python3"
    }
  },
  "cells": [
    {
      "cell_type": "code",
      "metadata": {
        "id": "4Q5Y6Cu0HX1L"
      },
      "source": [
        "# Import the required libraries\n",
        "import numpy as np\n",
        "import pandas as pd\n",
        "from sklearn.model_selection import train_test_split\n",
        "import matplotlib.pyplot as plt"
      ],
      "execution_count": 61,
      "outputs": []
    },
    {
      "cell_type": "code",
      "metadata": {
        "id": "ZA5e8mrbKTDq"
      },
      "source": [
        "class LogisticRegression:\n",
        "\n",
        "  def __init__(self, lr, n_iters):\n",
        "    self.lr = lr\n",
        "    self.n_iters = n_iters\n",
        "    self.weights = None\n",
        "    self.bias = None\n",
        "\n",
        "\n",
        "  def sigmoid(self, z):\n",
        "    return 1/(1+np.exp(-z))\n",
        "\n",
        "  def fit(self, X, y):\n",
        "    n_samples, n_features = X.shape\n",
        "    self.weights = np.zeros(n_features)\n",
        "    self.bias = 0\n",
        "\n",
        "    for _ in range(self.n_iters):\n",
        "      linear_model = np.dot(X, self.weights) * self.bias\n",
        "      y_predicted = self.sigmoid(linear_model)\n",
        "\n",
        "      dw = 1/(n_samples) * np.dot(X.T, y_predicted - y)\n",
        "      db = 1/(n_samples) * np.sum(y_predicted - y)\n",
        "\n",
        "      self.weights -= self.lr * dw\n",
        "      self.bias -= self.lr * db\n",
        "  \n",
        "\n",
        "  def predict(self, X):\n",
        "    linear_model = np.dot(X, self.weights) * self.bias\n",
        "    y_predicted = self.sigmoid(linear_model)\n",
        "    y_predicted_cls = [1 if i > 0.5 else 0 for i in y_predicted]\n",
        "    return y_predicted_cls\n",
        "\n",
        "\n"
      ],
      "execution_count": 70,
      "outputs": []
    },
    {
      "cell_type": "code",
      "metadata": {
        "id": "gneI-dNwKToJ"
      },
      "source": [
        "bc = datasets.load_breast_cancer()\n",
        "X, y = bc.data, bc.target\n"
      ],
      "execution_count": 93,
      "outputs": []
    },
    {
      "cell_type": "code",
      "metadata": {
        "id": "ZajaljwPMc6m"
      },
      "source": [
        "X_train, X_test, y_train, y_test = train_test_split(X, y, test_size = 0.2, random_state = 1234)"
      ],
      "execution_count": 94,
      "outputs": []
    },
    {
      "cell_type": "code",
      "metadata": {
        "id": "xvvpZxwJBYsY"
      },
      "source": [
        "def accuracy(y_true, y_predicted):\n",
        "  accuracy = np.sum(y_true == y_predicted) / len(y_true)\n",
        "  return accuracy\n"
      ],
      "execution_count": 95,
      "outputs": []
    },
    {
      "cell_type": "code",
      "metadata": {
        "colab": {
          "base_uri": "https://localhost:8080/"
        },
        "id": "ad5a6u4aBtEn",
        "outputId": "d572c522-01d7-4b1a-f450-d73276f4beda"
      },
      "source": [
        "regressor = LogisticRegression(lr = 0.0003, n_iters=100000)\n",
        "regressor.fit(X_train, y_train)\n",
        "\n",
        "predictions = regressor.predict(X_test)\n",
        "\n",
        "print(\"Accuracy:\", accuracy(y_test, predictions))"
      ],
      "execution_count": 96,
      "outputs": [
        {
          "output_type": "stream",
          "text": [
            "Accuracy: 0.9298245614035088\n"
          ],
          "name": "stdout"
        }
      ]
    }
  ]
}