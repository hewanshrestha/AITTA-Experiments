{
  "nbformat": 4,
  "nbformat_minor": 0,
  "metadata": {
    "colab": {
      "name": "LogisticRegression.ipynb",
      "provenance": [],
      "authorship_tag": "ABX9TyOo/E2dQkRWWXA8BBIiT3px",
      "include_colab_link": true
    },
    "kernelspec": {
      "name": "python3",
      "display_name": "Python 3"
    }
  },
  "cells": [
    {
      "cell_type": "markdown",
      "metadata": {
        "id": "view-in-github",
        "colab_type": "text"
      },
      "source": [
        "<a href=\"https://colab.research.google.com/github/hewanshrestha/ML_Algorithms/blob/master/LogisticRegression.ipynb\" target=\"_parent\"><img src=\"https://colab.research.google.com/assets/colab-badge.svg\" alt=\"Open In Colab\"/></a>"
      ]
    },
    {
      "cell_type": "markdown",
      "metadata": {
        "id": "BwIWFrVHi4e5"
      },
      "source": [
        "**Logistic Regression**"
      ]
    },
    {
      "cell_type": "code",
      "metadata": {
        "id": "A3Wruvttixv6"
      },
      "source": [
        "# importing the libraries\r\n",
        "import numpy as np\r\n",
        "import pandas as pd\r\n",
        "import matplotlib.pyplot as plt\r\n",
        "from sklearn.datasets import load_digits\r\n",
        "from sklearn.model_selection import train_test_split\r\n",
        "from sklearn.linear_model import LogisticRegression\r\n",
        "import seaborn as sns\r\n",
        "from sklearn import metrics"
      ],
      "execution_count": 41,
      "outputs": []
    },
    {
      "cell_type": "code",
      "metadata": {
        "id": "DNoMUqxTjZ6H"
      },
      "source": [
        "# loading the dataset\r\n",
        "digits = load_digits()"
      ],
      "execution_count": 5,
      "outputs": []
    },
    {
      "cell_type": "code",
      "metadata": {
        "colab": {
          "base_uri": "https://localhost:8080/"
        },
        "id": "x930_1Yxjc8j",
        "outputId": "08a08cab-7895-4c47-f651-6b41994c2baf"
      },
      "source": [
        "# printing the shape of the data\r\n",
        "print(\"Image Data Shape: \", digits.data.shape)"
      ],
      "execution_count": 9,
      "outputs": [
        {
          "output_type": "stream",
          "text": [
            "Image Data Shape:  (1797, 64)\n"
          ],
          "name": "stdout"
        }
      ]
    },
    {
      "cell_type": "code",
      "metadata": {
        "colab": {
          "base_uri": "https://localhost:8080/"
        },
        "id": "Jxak4QuCjosb",
        "outputId": "ef2370bb-3ba4-4f60-9c9c-908a7f1fe29c"
      },
      "source": [
        "# printing the shape of the target\r\n",
        "print(\"Image Target Shape: \", digits.target.shape)"
      ],
      "execution_count": 10,
      "outputs": [
        {
          "output_type": "stream",
          "text": [
            "Image Target Shape:  (1797,)\n"
          ],
          "name": "stdout"
        }
      ]
    },
    {
      "cell_type": "code",
      "metadata": {
        "colab": {
          "base_uri": "https://localhost:8080/",
          "height": 185
        },
        "id": "F2h0-F5LjySk",
        "outputId": "1d7744e2-83fa-4b98-c0aa-a7c34b7f7048"
      },
      "source": [
        "# plotting the samples\r\n",
        "plt.figure(figsize=(20,4))\r\n",
        "for index, (image, label) in enumerate(zip(digits.data[0:10], digits.target[0:10])):\r\n",
        "    plt.subplot(1, 10, index + 1)\r\n",
        "    plt.imshow(np.reshape(image, (8,8)), cmap=plt.cm.gray)\r\n",
        "    plt.title('Training: %i\\n' % label, fontsize = 20)"
      ],
      "execution_count": 17,
      "outputs": [
        {
          "output_type": "display_data",
          "data": {
            "image/png": "[encoded data removed]",
            "text/plain": [
              "<Figure size 1440x288 with 10 Axes>"
            ]
          },
          "metadata": {
            "tags": [],
            "needs_background": "light"
          }
        }
      ]
    },
    {
      "cell_type": "code",
      "metadata": {
        "id": "sT4r7fdDkIwV"
      },
      "source": [
        "# splitting the dataset into training and testing set\r\n",
        "X_train, X_test, y_train, y_test = train_test_split(digits.data, digits.target, test_size = 0.2)"
      ],
      "execution_count": 20,
      "outputs": []
    },
    {
      "cell_type": "code",
      "metadata": {
        "id": "QDMaI2eLkk_T"
      },
      "source": [
        "# creating the LogisticRegression model\r\n",
        "model = LogisticRegression()"
      ],
      "execution_count": 21,
      "outputs": []
    },
    {
      "cell_type": "code",
      "metadata": {
        "colab": {
          "base_uri": "https://localhost:8080/"
        },
        "id": "IW4LuHIykrAD",
        "outputId": "c842a907-c0fe-4e05-b562-a55c36197d70"
      },
      "source": [
        "# training the model with training sets\r\n",
        "model.fit(X_train, y_train)"
      ],
      "execution_count": 22,
      "outputs": [
        {
          "output_type": "stream",
          "text": [
            "/usr/local/lib/python3.7/dist-packages/sklearn/linear_model/_logistic.py:940: ConvergenceWarning: lbfgs failed to converge (status=1):\n",
            "STOP: TOTAL NO. of ITERATIONS REACHED LIMIT.\n",
            "\n",
            "Increase the number of iterations (max_iter) or scale the data as shown in:\n",
            "    https://scikit-learn.org/stable/modules/preprocessing.html\n",
            "Please also refer to the documentation for alternative solver options:\n",
            "    https://scikit-learn.org/stable/modules/linear_model.html#logistic-regression\n",
            "  extra_warning_msg=_LOGISTIC_SOLVER_CONVERGENCE_MSG)\n"
          ],
          "name": "stderr"
        },
        {
          "output_type": "execute_result",
          "data": {
            "text/plain": [
              "LogisticRegression(C=1.0, class_weight=None, dual=False, fit_intercept=True,\n",
              "                   intercept_scaling=1, l1_ratio=None, max_iter=100,\n",
              "                   multi_class='auto', n_jobs=None, penalty='l2',\n",
              "                   random_state=None, solver='lbfgs', tol=0.0001, verbose=0,\n",
              "                   warm_start=False)"
            ]
          },
          "metadata": {
            "tags": []
          },
          "execution_count": 22
        }
      ]
    },
    {
      "cell_type": "code",
      "metadata": {
        "colab": {
          "base_uri": "https://localhost:8080/"
        },
        "id": "gK1XZHN3kzYT",
        "outputId": "0e47a74f-072a-46f8-ea11-a772fcd6babd"
      },
      "source": [
        "# predicting for one observation\r\n",
        "model.predict(X_test[12].reshape(1,-1))"
      ],
      "execution_count": 31,
      "outputs": [
        {
          "output_type": "execute_result",
          "data": {
            "text/plain": [
              "array([9])"
            ]
          },
          "metadata": {
            "tags": []
          },
          "execution_count": 31
        }
      ]
    },
    {
      "cell_type": "code",
      "metadata": {
        "colab": {
          "base_uri": "https://localhost:8080/"
        },
        "id": "oraxOauBk9Qy",
        "outputId": "ac759d58-642d-43d3-dbdb-45999a19f9cc"
      },
      "source": [
        "# predicting for multiple observations\r\n",
        "model.predict(X_test[:20])"
      ],
      "execution_count": 32,
      "outputs": [
        {
          "output_type": "execute_result",
          "data": {
            "text/plain": [
              "array([0, 6, 9, 0, 8, 2, 7, 3, 7, 0, 2, 7, 9, 5, 0, 9, 6, 4, 4, 4])"
            ]
          },
          "metadata": {
            "tags": []
          },
          "execution_count": 32
        }
      ]
    },
    {
      "cell_type": "code",
      "metadata": {
        "colab": {
          "base_uri": "https://localhost:8080/"
        },
        "id": "9irf4paJlP6T",
        "outputId": "6698b55c-eef0-4040-cc71-16e6d471a9a6"
      },
      "source": [
        "# making predictions on the entire testing set\r\n",
        "predictions = model.predict(X_test)\r\n",
        "predictions"
      ],
      "execution_count": 39,
      "outputs": [
        {
          "output_type": "execute_result",
          "data": {
            "text/plain": [
              "array([0, 6, 9, 0, 8, 2, 7, 3, 7, 0, 2, 7, 9, 5, 0, 9, 6, 4, 4, 4, 7, 1,\n",
              "       9, 2, 5, 5, 3, 7, 0, 9, 7, 5, 2, 8, 8, 4, 8, 7, 6, 2, 1, 6, 8, 5,\n",
              "       9, 2, 3, 6, 2, 5, 5, 1, 4, 9, 5, 9, 6, 4, 2, 2, 0, 1, 0, 9, 6, 7,\n",
              "       6, 8, 9, 5, 4, 1, 4, 1, 8, 9, 9, 5, 0, 0, 8, 8, 0, 8, 4, 3, 9, 8,\n",
              "       0, 2, 3, 2, 7, 8, 5, 2, 6, 5, 2, 0, 6, 9, 8, 9, 5, 9, 1, 3, 5, 0,\n",
              "       5, 8, 5, 2, 6, 8, 9, 5, 9, 7, 8, 5, 3, 1, 7, 6, 1, 6, 0, 5, 4, 3,\n",
              "       8, 6, 6, 7, 6, 6, 2, 4, 2, 1, 8, 6, 9, 8, 0, 7, 9, 2, 8, 8, 3, 6,\n",
              "       5, 8, 1, 4, 8, 1, 4, 7, 8, 9, 2, 5, 9, 7, 0, 0, 4, 1, 0, 0, 9, 8,\n",
              "       8, 8, 9, 1, 4, 7, 4, 2, 3, 1, 7, 1, 7, 0, 1, 2, 4, 3, 6, 4, 3, 6,\n",
              "       7, 6, 5, 3, 5, 7, 9, 7, 5, 8, 1, 3, 0, 2, 5, 6, 8, 1, 7, 0, 3, 3,\n",
              "       4, 8, 2, 3, 2, 0, 8, 9, 1, 7, 2, 7, 6, 4, 8, 4, 3, 2, 7, 0, 7, 2,\n",
              "       6, 0, 2, 3, 8, 6, 8, 2, 4, 3, 7, 2, 3, 4, 0, 6, 7, 7, 1, 1, 7, 8,\n",
              "       3, 2, 4, 1, 9, 0, 9, 9, 3, 0, 4, 6, 8, 1, 8, 9, 9, 9, 9, 2, 2, 1,\n",
              "       4, 0, 7, 8, 0, 3, 1, 7, 2, 1, 9, 0, 2, 7, 4, 2, 5, 7, 5, 4, 4, 8,\n",
              "       8, 3, 5, 0, 1, 7, 2, 1, 8, 7, 4, 6, 5, 3, 6, 1, 3, 9, 1, 4, 8, 4,\n",
              "       6, 5, 6, 0, 6, 4, 3, 5, 3, 4, 1, 5, 9, 2, 4, 1, 9, 1, 4, 5, 4, 1,\n",
              "       3, 9, 3, 6, 6, 5, 4, 0])"
            ]
          },
          "metadata": {
            "tags": []
          },
          "execution_count": 39
        }
      ]
    },
    {
      "cell_type": "code",
      "metadata": {
        "id": "qqSaBPHwmBs4"
      },
      "source": [
        "cm = metrics.confusion_matrix(y_test, predictions)"
      ],
      "execution_count": 42,
      "outputs": []
    },
    {
      "cell_type": "code",
      "metadata": {
        "colab": {
          "base_uri": "https://localhost:8080/"
        },
        "id": "UKOoNrLTlV8k",
        "outputId": "0ce3b98e-46e4-4881-bb31-790a511f868a"
      },
      "source": [
        "# Use score method to get accuracy of model\r\n",
        "score = model.score(X_test, y_test)\r\n",
        "score"
      ],
      "execution_count": 36,
      "outputs": [
        {
          "output_type": "execute_result",
          "data": {
            "text/plain": [
              "0.9583333333333334"
            ]
          },
          "metadata": {
            "tags": []
          },
          "execution_count": 36
        }
      ]
    },
    {
      "cell_type": "code",
      "metadata": {
        "colab": {
          "base_uri": "https://localhost:8080/",
          "height": 526
        },
        "id": "KeWdSGsel07f",
        "outputId": "052e66ab-3692-49ef-c8da-3d0809eac5c1"
      },
      "source": [
        "plt.figure(figsize=(9,9))\r\n",
        "sns.heatmap(cm, annot=True, fmt=\".3f\", linewidths=.5, square = True, cmap = 'Blues_r');\r\n",
        "plt.ylabel('Actual label');\r\n",
        "plt.xlabel('Predicted label');\r\n",
        "all_sample_title = 'Accuracy Score: {0}'.format(score)\r\n",
        "plt.title(all_sample_title, size = 15);"
      ],
      "execution_count": 43,
      "outputs": [
        {
          "output_type": "display_data",
          "data": {
            "image/png": "[encoded data removed]",
            "text/plain": [
              "<Figure size 648x648 with 2 Axes>"
            ]
          },
          "metadata": {
            "tags": [],
            "needs_background": "light"
          }
        }
      ]
    }
  ]
}